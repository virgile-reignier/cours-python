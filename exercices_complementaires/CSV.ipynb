{
 "cells": [
  {
   "attachments": {},
   "cell_type": "markdown",
   "metadata": {},
   "source": [
    "# Exercices CSV\n",
    "\n",
    "À partir du fichier `data/csv/stages.csv` :\n",
    "\n",
    "1. Comptez le nombre de stage en France, à l'Étranger.\n",
    "2. Quelle est la durée moyenne de stage proposée ?\n",
    "3. Classez les livrables (Données\tCahier des charges\tPrototype\tRecommandation\tValorisation) en fonction de leur présence\n",
    "4. Faire de même pour les mots-clefs et les technologies\n",
    "5. De même pour les institutions\n",
    "6. Classez les livrables par type d'institution.\n",
    "\n",
    "Pour bien profiter de l'exercice, utilisez une cellule par mission.\n",
    "\n",
    "7. Créer un fichier conservant les classements 3, 4, 5 et 6."
   ]
  },
  {
   "cell_type": "code",
   "execution_count": null,
   "metadata": {},
   "outputs": [],
   "source": []
  },
  {
   "cell_type": "code",
   "execution_count": null,
   "metadata": {},
   "outputs": [],
   "source": []
  },
  {
   "cell_type": "code",
   "execution_count": null,
   "metadata": {},
   "outputs": [],
   "source": []
  },
  {
   "cell_type": "code",
   "execution_count": null,
   "metadata": {},
   "outputs": [],
   "source": []
  },
  {
   "cell_type": "code",
   "execution_count": null,
   "metadata": {},
   "outputs": [],
   "source": []
  },
  {
   "cell_type": "code",
   "execution_count": null,
   "metadata": {},
   "outputs": [],
   "source": []
  },
  {
   "cell_type": "code",
   "execution_count": null,
   "metadata": {},
   "outputs": [],
   "source": []
  }
 ],
 "metadata": {
  "kernelspec": {
   "display_name": "Python 3",
   "language": "python",
   "name": "python3"
  },
  "language_info": {
   "codemirror_mode": {
    "name": "ipython",
    "version": 3
   },
   "file_extension": ".py",
   "mimetype": "text/x-python",
   "name": "python",
   "nbconvert_exporter": "python",
   "pygments_lexer": "ipython3",
   "version": "3.8.0"
  }
 },
 "nbformat": 4,
 "nbformat_minor": 2
}

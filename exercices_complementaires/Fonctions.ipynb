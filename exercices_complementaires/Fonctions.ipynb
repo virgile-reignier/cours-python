{
 "cells": [
  {
   "cell_type": "markdown",
   "metadata": {},
   "source": [
    "## Exercice 1\n",
    "\n",
    "Créer une fonction qui conjuge un verbe du premier groupe au présent de l'indicatif à la personne demandée telle que:"
   ]
  },
  {
   "cell_type": "code",
   "execution_count": null,
   "metadata": {},
   "outputs": [],
   "source": []
  },
  {
   "cell_type": "code",
   "execution_count": null,
   "metadata": {},
   "outputs": [],
   "source": [
    "# Vérification\n",
    "assert conjugue(\"manger\", 2) == \"manges\"\n",
    "assert conjugue(\"balayer\", 5) == \"balayez\"\n",
    "assert conjugue(\"travailler\", 3) == \"travaillons\""
   ]
  },
  {
   "cell_type": "markdown",
   "metadata": {},
   "source": [
    "## Exercice 2\n",
    "\n",
    "Créer une fonction qui conjuge un verbe du premier groupe au temps de l'indicatif demandé (entre présent et imparfait)\n",
    "à la personne demandée telle que:"
   ]
  },
  {
   "cell_type": "code",
   "execution_count": null,
   "metadata": {},
   "outputs": [],
   "source": []
  },
  {
   "cell_type": "code",
   "execution_count": null,
   "metadata": {},
   "outputs": [],
   "source": [
    "# Vérification\n",
    "assert conjugue(\"manger\", 2, \"présent\") == \"manges\"\n",
    "assert conjugue(\"balayer\", 5, \"présent\") == \"balayez\"\n",
    "assert conjugue(\"travailler\", 3, \"imparfait\") == \"travaillions\""
   ]
  },
  {
   "cell_type": "markdown",
   "metadata": {},
   "source": [
    "## Exercice 3\n",
    "\n",
    "Créer une fonction qui détermine le verbe, les temps et les personnes possible d'un verbe conjugé au premier groupe, telle que:"
   ]
  },
  {
   "cell_type": "code",
   "execution_count": null,
   "metadata": {},
   "outputs": [],
   "source": []
  },
  {
   "cell_type": "code",
   "execution_count": null,
   "metadata": {},
   "outputs": [],
   "source": [
    "# Vérification\n",
    "assert analyse(\"mange\") == [(\"manger\", 1, \"présent\"), (\"manger\", 3, \"présent\")]\n",
    "assert analyse(\"balayez\") == [(\"balayer\", 5, \"présent\")]\n",
    "assert analyse(\"travaillions\") == [(\"travailler\", 3, \"imparfait\")]"
   ]
  },
  {
   "cell_type": "markdown",
   "metadata": {},
   "source": [
    "## Exercice 4\n",
    "\n",
    "Créer une fonction qui pour un fichier texte donné compte le nombre de mots et retourne les 5 mots les plus fréquents."
   ]
  },
  {
   "cell_type": "code",
   "execution_count": null,
   "metadata": {},
   "outputs": [],
   "source": []
  },
  {
   "cell_type": "code",
   "execution_count": null,
   "metadata": {},
   "outputs": [],
   "source": [
    "# Vérification\n",
    "assert top5(\"../data/Ballade.XXVIII.dePisan.txt\") == [('que', 5), ('de', 5), ('car', 6), ('ne', 7), ('vous', 10)]\n",
    "assert top5(\"../data/lettre.louisemichel.txt\") == [('vous', 12), ('ne', 13), ('me', 13), ('que', 15), ('je', 30)]"
   ]
  }
 ],
 "metadata": {
  "kernelspec": {
   "display_name": "Python 3",
   "language": "python",
   "name": "python3"
  },
  "language_info": {
   "codemirror_mode": {
    "name": "ipython",
    "version": 3
   },
   "file_extension": ".py",
   "mimetype": "text/x-python",
   "name": "python",
   "nbconvert_exporter": "python",
   "pygments_lexer": "ipython3",
   "version": "3.6.9"
  }
 },
 "nbformat": 4,
 "nbformat_minor": 2
}

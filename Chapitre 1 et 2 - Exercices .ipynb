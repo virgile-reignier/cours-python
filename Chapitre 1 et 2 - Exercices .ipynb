{
 "cells": [
  {
   "cell_type": "markdown",
   "metadata": {},
   "source": [
    "Chapitre 1 et 2 : Exercices supplémentaires\n",
    "==="
   ]
  },
  {
   "cell_type": "markdown",
   "metadata": {},
   "source": [
    "Ces exercices vous permettront de mettre en pratique les connaissances accumulées pendant les chapitres 1 et 2."
   ]
  },
  {
   "cell_type": "code",
   "execution_count": null,
   "metadata": {},
   "outputs": [],
   "source": [
    "#En cas de besoin, exécutez ce bloc pour réimporter les fichiers dans Google colab\n",
    "from google.colab import files\n",
    "import zipfile\n",
    "import io\n",
    "\n",
    "uploaded = files.upload()\n",
    "zip_filename = 'data.zip'\n",
    "with zipfile.ZipFile(io.BytesIO(uploaded[zip_filename]), 'r') as zip_ref:\n",
    "    zip_ref.extractall()"
   ]
  },
  {
   "cell_type": "markdown",
   "metadata": {},
   "source": [
    "## Exercice 1\n",
    "\n",
    "Écrivez une fonction qui, en fonction d'un chemin de fichier qui contient un poème, ajoutera les numéros de lignes suivis d'une tabulation (marquée par \"\\t\") et retournera cette nouvelle version du texte.\n",
    "\n",
    "Les lignes vides ne seront pas numérotées.\n",
    "\n",
    "**Aide** : \n",
    "- `.split()` peut prendre un argument correspondant à la valeur sur laquelle découper un texte. `.split('\\n')` découpera un texte sur les nouvelles lignes"
   ]
  },
  {
   "cell_type": "code",
   "execution_count": null,
   "metadata": {},
   "outputs": [],
   "source": [
    "def numeroter_poeme(chemin_de_fichier):\n",
    "    # Ecrire le code ici\n",
    "\n",
    "# Code pour tester le résultat\n",
    "poeme = numeroter_poeme(\"data/lanuitdelamort.michel.txt\")\n",
    "\n",
    "assert \"5\\tJamais, jamais le dernier jour\" in poeme\n",
    "assert \"13\\tElle monte et les couvrira.\" in poeme"
   ]
  },
  {
   "cell_type": "markdown",
   "metadata": {},
   "source": [
    "## Exercice 2\n",
    "\n",
    "A partir du travail effectué en exercice 1, créer une fonction qui renvoie une liste de vers annotés en tuples."
   ]
  },
  {
   "cell_type": "code",
   "execution_count": null,
   "metadata": {},
   "outputs": [],
   "source": [
    "def numeroter_poeme(chemin_de_fichier):\n",
    "    # Ecrire le code ici\n",
    "\n",
    "# Code pour tester le résultat\n",
    "poeme = numeroter_poeme(\"data/lanuitdelamort.michel.txt\")\n",
    "\n",
    "assert (5, \"Jamais, jamais le dernier jour\") == poeme[4]\n",
    "assert (13, \"Elle monte et les couvrira.\") == poeme[12]"
   ]
  },
  {
   "cell_type": "markdown",
   "metadata": {},
   "source": [
    "## Exercice 2 bis (Bonus)\n",
    "\n",
    "*Cet exercice nécessitant la réussite du précédent, il est conseillé de passer à l'exercice 3 avant de le commencer*.\n",
    "\n",
    "Dans cet exercice, on traitera à la fois les vers et les strophes. Pour faire ceci, la fonction `numeroter_poeme_avec_strophe` devra prendre en compte que deux sauts de ligne (ou une ligne vide) équivaut à un changement de strophe.\n",
    "\n",
    "La valeur de retour de la fonction sera une liste de listes correspondant aux strophes de tuples correspondant aux vers avec numéros. Exemple :\n",
    "\n",
    "```python\n",
    "[[(1, 'Mon doulz ami, vueilliez moy pardonner,'),\n",
    "  (2, 'Se je ne puis, si tost com je vouldroye,'),\n",
    "  (3, 'Parler a vous, car ainçois ordener'),\n",
    "  (4, 'Me fault comment sera, ne par quel voye.'),\n",
    "  (5, 'Car mesdisans me vont gaitant'),\n",
    "  (6, 'Qui du meschief et du mal me font tant,'),\n",
    "  (7, 'Que je ne puis joye ne bien avoir,'),\n",
    "  (8, 'Pour le desir que j’ay de vous veoir.')],\n",
    " [(9, 'Si pry a Dieu qu’il leur vueille donner'),\n",
    "  (10, 'La mort briefment ; car leur vie m’anoye,'),\n",
    "  (11, 'Pour ce qu’en dueil me font mes jours finer'),\n",
    "  (12, 'Sanz vous veoir, ou est toute ma joye'),\n",
    "  (13, 'Car ilz se vont entremettant'),\n",
    "  (14, 'De moy gaitier nuit et jour, mais pourtant'),\n",
    "  (15, 'Ne vous oubli, ce pouez vous savoir,'),\n",
    "  (16, 'Pour le desir que j’ay de vous veoir.')],\n",
    " [(17, 'Mais ne sçaront ja eulx si fort pener,'),\n",
    "  (18, 'Que, maugré tous, bien briefment ne vous voie.'),\n",
    "  (19, 'Car tant feray, se g’y puis assener,'),\n",
    "  (20, 'Que vous verray, quoy qu’avenir m’en doye,'),\n",
    "  (21, 'Et vous feray savoir quant.'),\n",
    "  (22, 'Mon doulz ami, deportez vous atant.'),\n",
    "  (23, 'Car g’y mettray peine, sachiez de voir,'),\n",
    "  (24, 'Pour le desir que j’ay de vous veoir.')]]\n",
    "```\n",
    "\n",
    "**Aide** \n",
    "- une ligne vide est équivalent à `False` "
   ]
  },
  {
   "cell_type": "code",
   "execution_count": 10,
   "metadata": {},
   "outputs": [],
   "source": [
    "def numeroter_poeme_avec_strophe(chemin):\n",
    "    # Ecrire le code ici\n",
    "        \n",
    "poeme = numeroter_poeme_avec_strophe(\"data/Ballade.XXVIII.dePisan.txt\")\n",
    "\n",
    "assert poeme[0] == [(1, 'Mon doulz ami, vueilliez moy pardonner,'),\n",
    "  (2, 'Se je ne puis, si tost com je vouldroye,'),\n",
    "  (3, 'Parler a vous, car ainçois ordener'),\n",
    "  (4, 'Me fault comment sera, ne par quel voye.'),\n",
    "  (5, 'Car mesdisans me vont gaitant'),\n",
    "  (6, 'Qui du meschief et du mal me font tant,'),\n",
    "  (7, 'Que je ne puis joye ne bien avoir,'),\n",
    "  (8, 'Pour le desir que j’ay de vous veoir.')]\n",
    "assert poeme[-1][0] == (17, 'Mais ne sçaront ja eulx si fort pener,')"
   ]
  },
  {
   "cell_type": "markdown",
   "metadata": {},
   "source": [
    "## Exercice 3\n",
    "\n",
    "*Avant de lire la consigne, ouvrez [data/debat.folieamour.labbe.txt](data/debat.folieamour.labbe.txt)*\n",
    "\n",
    "**Aide** :\n",
    "- On peut vérifier qu'une ligne commence par une chaîne de caractère en utilisant `.startswith(chaine)` :"
   ]
  },
  {
   "cell_type": "code",
   "execution_count": null,
   "metadata": {},
   "outputs": [],
   "source": [
    "print(\"Pour le desir que j’ay de vous veoir.\".startswith(\"Pour\"))\n",
    "print(\"Pour le desir que j’ay de vous veoir.\".startswith(\"POUR\"))\n",
    "print(\"Pour le desir que j’ay de vous veoir.\".startswith(\"le desir\"))"
   ]
  },
  {
   "cell_type": "markdown",
   "metadata": {},
   "source": [
    "Le fichier data/debat.folieamour.labbe.txt contient un dialogue entre Folie et Amour écrit par Louise Labbé. Vous produirez à partir de ce fichier une liste de réplique et de didascalie de telle sorte que :\n",
    "\n",
    "- les répliques de personnages soient des `tuple` prenant la forme `(index_de_ligne, \"réplique\", nom_de_personnage, texte de la replique)`\n",
    "- les didascalies soient des tuples prenant la forme `(index_de_ligne, \"didascalie\", False, texte de la didascalie)`\n",
    "- les lignes vides soient ignorées"
   ]
  },
  {
   "cell_type": "code",
   "execution_count": null,
   "metadata": {},
   "outputs": [],
   "source": [
    "def debat(chemin):\n",
    "    # Ecrire ici\n",
    "    \n",
    "# Tests\n",
    "resultats = debat(\"data/debat.folieamour.labbe.txt\")\n",
    "assert isinstance(resultats, list) == True, \"Le resultat doit être une liste\"\n",
    "assert resultats[3] == (\n",
    "    4,\n",
    "    \"réplique\",\n",
    "    \"AMOUR\",\n",
    "    \"II n'en ira pas ainsi : car avant que tu m'eschapes, je te donneray à connoitre que tu ne te dois atacher à moy.\"\n",
    ")\n",
    "assert resultats[16] == (\n",
    "    17,\n",
    "    \"didascalie\",\n",
    "    False,\n",
    "    \"Folie se fait invisible, tellement, qu'Amour ne la peut assener.\"\n",
    ")\n",
    "assert resultats[8] == (\n",
    "    9,\n",
    "    \"réplique\",\n",
    "    \"FOLIE\",\n",
    "    \"Tu es Amour, fils de Venus.\"\n",
    ")"
   ]
  }
 ],
 "metadata": {
  "kernelspec": {
   "display_name": "Python 3",
   "language": "python",
   "name": "python3"
  },
  "language_info": {
   "codemirror_mode": {
    "name": "ipython",
    "version": 3
   },
   "file_extension": ".py",
   "mimetype": "text/x-python",
   "name": "python",
   "nbconvert_exporter": "python",
   "pygments_lexer": "ipython3",
   "version": "3.5.2"
  }
 },
 "nbformat": 4,
 "nbformat_minor": 2
}

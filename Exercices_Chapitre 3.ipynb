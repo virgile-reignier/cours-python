{
 "cells": [
  {
   "cell_type": "markdown",
   "metadata": {},
   "source": [
    "# Chapitre 3 : Exercices supplémentaires\n",
    "\n",
    "Cet ensemble d'exercice est basé sur le fichier de json [youtube](./data/json/youtube.json) et un fichier [twitter](data/json/twitter.humanitesnumeriques2.json)."
   ]
  },
  {
   "cell_type": "code",
   "execution_count": null,
   "metadata": {},
   "outputs": [],
   "source": [
    "#En cas de besoin, exécutez ce bloc pour réimporter les fichiers dans Google colab\n",
    "from google.colab import files\n",
    "import zipfile\n",
    "import io\n",
    "\n",
    "uploaded = files.upload()\n",
    "zip_filename = 'data.zip'\n",
    "with zipfile.ZipFile(io.BytesIO(uploaded[zip_filename]), 'r') as zip_ref:\n",
    "    zip_ref.extractall()"
   ]
  },
  {
   "cell_type": "markdown",
   "metadata": {},
   "source": [
    "Vous devrez charger les fichiers en exécutant les blocs suivants :"
   ]
  },
  {
   "cell_type": "code",
   "execution_count": null,
   "metadata": {},
   "outputs": [],
   "source": [
    "import json\n",
    "import pprint\n",
    "\n",
    "with open(\"data/json/youtube.json\") as f:\n",
    "    youtube = json.load(f)\n",
    "    \n",
    "# Visualisation\n",
    "pprint.pprint(youtube)"
   ]
  },
  {
   "cell_type": "code",
   "execution_count": null,
   "metadata": {},
   "outputs": [],
   "source": [
    "import json\n",
    "import pprint\n",
    "\n",
    "with open(\"data/json/twitter.humanitesnumeriques2.json\") as f:\n",
    "    twitter = json.load(f)\n",
    "    \n",
    "# Visualisation\n",
    "pprint.pprint(twitter)"
   ]
  },
  {
   "cell_type": "markdown",
   "metadata": {},
   "source": [
    "## Exemple\n",
    "\n",
    "Dans les exercices suivants, il faudra utiliser la variable twitter et donc comprendre son contenu pour créer les chemins via les index. Exemple:"
   ]
  },
  {
   "cell_type": "code",
   "execution_count": null,
   "metadata": {},
   "outputs": [],
   "source": [
    "# Consigne\n",
    "kind = None\n",
    "print(kind)\n",
    "assert kind == \"youtube#playlistItemListResponse\", \"Mauvaise clé\""
   ]
  },
  {
   "cell_type": "code",
   "execution_count": null,
   "metadata": {},
   "outputs": [],
   "source": [
    "# Exercice réalisé\n",
    "# On recommendera l'utilisation de la commande rechercher pour trouver où se situe une valeur \n",
    "#   demandée dans le JSON\n",
    "kind = youtube[\"kind\"]\n",
    "# On débugue\n",
    "print(kind)\n",
    "# On teste\n",
    "assert kind == \"youtube#playlistItemListResponse\", \"Mauvaise clé\""
   ]
  },
  {
   "cell_type": "markdown",
   "metadata": {},
   "source": [
    "## A Dictionnaires et listes : les index"
   ]
  },
  {
   "cell_type": "markdown",
   "metadata": {},
   "source": [
    "## A.1 *Youtube*\n",
    "```json\n",
    " ...\n",
    " \"pageInfo\": {\n",
    "  \"totalResults\": 84,\n",
    "  \"resultsPerPage\": 20\n",
    " ...\n",
    "```"
   ]
  },
  {
   "cell_type": "code",
   "execution_count": null,
   "metadata": {},
   "outputs": [],
   "source": [
    "# A.1\n",
    "total_results = None\n",
    "print(total_results)\n",
    "assert total_results == 84, \"Mauvaise clé !\""
   ]
  },
  {
   "cell_type": "markdown",
   "metadata": {},
   "source": [
    "## A.2 *Youtube*\n",
    "\n",
    "```json\n",
    " ...\n",
    "   \"publishedAt\": \"2015-10-05T07:48:56.000Z\",\n",
    "    \"channelId\": \"UC9-y-6csu5WGm29I7JiwpnA\",\n",
    "    \"title\": \"Zig Zag Decryption - Computerphile\",\n",
    " ...\n",
    "```"
   ]
  },
  {
   "cell_type": "code",
   "execution_count": null,
   "metadata": {},
   "outputs": [],
   "source": [
    "title = None\n",
    "print(title)\n",
    "assert title == \"Zig Zag Decryption - Computerphile\", \"Mauvaise clé !\""
   ]
  },
  {
   "cell_type": "markdown",
   "metadata": {},
   "source": [
    "## A.3 *Youtube*\n",
    "\n",
    "```json\n",
    "   ...\n",
    "\n",
    "    \"resourceId\": {\n",
    "     \"kind\": \"youtube#video\",\n",
    "     \"videoId\": \"yxx3Bkmv3ck\"\n",
    "   ...\n",
    "```"
   ]
  },
  {
   "cell_type": "code",
   "execution_count": null,
   "metadata": {},
   "outputs": [],
   "source": [
    "# A.3\n",
    "videoId = None\n",
    "print(videoId)\n",
    "assert videoId == \"yxx3Bkmv3ck\", \"Mauvaise clé !\""
   ]
  },
  {
   "cell_type": "markdown",
   "metadata": {},
   "source": [
    "## A.4 *Youtube*\n",
    "\n",
    "```json\n",
    "   ...\n",
    "   \"thumbnails\": {\n",
    "     \"default\": {\n",
    "      \"url\": \"https://i.ytimg.com/vi/Ou_9ntYRzzw/default.jpg\",\n",
    "      \"width\": 120,\n",
    "   ...\n",
    "```"
   ]
  },
  {
   "cell_type": "code",
   "execution_count": null,
   "metadata": {},
   "outputs": [],
   "source": [
    "# A.4 (Trois possibilités)\n",
    "url = None\n",
    "print(url)\n",
    "assert url == \"https://i.ytimg.com/vi/Ou_9ntYRzzw/default.jpg\", \"Mauvaise clé !\""
   ]
  },
  {
   "cell_type": "markdown",
   "metadata": {},
   "source": [
    "## A.5 *Youtube*\n",
    "\n",
    "```json\n",
    "   ...\n",
    "   \"snippet\": {\n",
    "    \"publishedAt\": \"2015-10-20T09:43:34.000Z\",\n",
    "   ...\n",
    "```"
   ]
  },
  {
   "cell_type": "code",
   "execution_count": null,
   "metadata": {},
   "outputs": [],
   "source": [
    "# Consigne\n",
    "publishedAt = None\n",
    "print(publishedAt)\n",
    "assert publishedAt == \"2015-10-20T09:43:34.000Z\", \"Mauvaise clé !\""
   ]
  },
  {
   "cell_type": "markdown",
   "metadata": {},
   "source": [
    "## A.6 *Twitter*\n",
    "\n",
    "```json\n",
    "   ...\n",
    "    'protected': False,\n",
    "    'screen_name': 'ViolaineTissier',\n",
    "   ...\n",
    "```"
   ]
  },
  {
   "cell_type": "code",
   "execution_count": null,
   "metadata": {},
   "outputs": [],
   "source": [
    "# A.6\n",
    "ViolaineTissier = None\n",
    "print(ViolaineTissier)\n",
    "assert ViolaineTissier == \"ViolaineTissier\", \"Mauvaise clé !\""
   ]
  },
  {
   "cell_type": "markdown",
   "metadata": {},
   "source": [
    "## A.7 *Twitter*\n",
    "\n",
    "```json\n",
    "   ...\n",
    "    'source': '<a href=\"http://twitter.com\" '\n",
    "              'rel=\"nofollow\">Twitter Web '\n",
    "              'Client</a>',\n",
    "    'text': 'Comment donner une place aux '\n",
    "            'jeunes chercheurs dès le Master? '\n",
    "            'Et si le carnet apportait une '\n",
    "            'solution:… '\n",
    "            'https://t.co/03fTBZabyk',\n",
    "   ...\n",
    "```"
   ]
  },
  {
   "cell_type": "code",
   "execution_count": null,
   "metadata": {},
   "outputs": [],
   "source": [
    "# Consigne\n",
    "texte = None\n",
    "print(texte)\n",
    "assert texte.startswith(\"Comment donner une place aux\") == True, \"Mauvaise clé !\""
   ]
  },
  {
   "cell_type": "markdown",
   "metadata": {},
   "source": [
    "## A.8 *Twitter*\n",
    "\n",
    "```json\n",
    "   ...\n",
    "        \"id\": 9.4303350372955e+17,\n",
    "        \"id_str\": \"943033503729553408\",\n",
    "   ...\n",
    "```"
   ]
  },
  {
   "cell_type": "code",
   "execution_count": null,
   "metadata": {},
   "outputs": [],
   "source": [
    "# Consigne\n",
    "id_tweet = None\n",
    "print(id_tweet)\n",
    "assert id_tweet == \"943033503729553408\", \"Mauvaise clé !\""
   ]
  },
  {
   "cell_type": "markdown",
   "metadata": {},
   "source": [
    "# Boucles\n",
    "\n",
    "Vous réaliserez des boucles permettant de remplir suivant l'exemple donné"
   ]
  },
  {
   "cell_type": "markdown",
   "metadata": {},
   "source": [
    "## B.1 *Youtube*\n",
    "\n",
    "```json\n",
    "...\n",
    "\n",
    "    \"channelId\": \"UC9-y-6csu5WGm29I7JiwpnA\",\n",
    "    \"title\": \"Fishy Codes: Bletchley's Other Secret - Computerphile\",\n",
    "...\n",
    "```"
   ]
  },
  {
   "cell_type": "code",
   "execution_count": null,
   "metadata": {},
   "outputs": [],
   "source": [
    "# B. 1\n",
    "liste_de_titres = []\n",
    "\n",
    "# Votre code ici\n",
    "    \n",
    "assert liste_de_titres == ['Zig Zag Decryption - Computerphile',\n",
    " \"Fishy Codes: Bletchley's Other Secret - Computerphile\",\n",
    " 'The Great 202 Jailbreak - Computerphile',\n",
    " 'Why Electronic Voting is a BAD Idea - Computerphile',\n",
    " '\"C\" Programming Language: Brian Kernighan - Computerphile',\n",
    " 'Colossus & Bletchley Park - Computerphile',\n",
    " 'The Most Difficult Program to Compute? - Computerphile',\n",
    " \"Turing's Enigma Problem (Part 1) - Computerphile\",\n",
    " \"Tackling Enigma (Turing's Enigma Problem Part 2) - Computerphile\",\n",
    " 'Connecting Universities - Computerphile',\n",
    " 'Why Do We Need IP Addresses? - Computerphile',\n",
    " 'Chip & PIN Fraud Explained - Computerphile',\n",
    " 'Flip Flops, Latches & Memory Details - Computerphile',\n",
    " 'The Factory of Ideas: Working at Bell Labs - Computerphile',\n",
    " 'Raspberry Pi Zero - the $5 Computer - Computerphile',\n",
    " 'How Bitcoin Works - Computerphile',\n",
    " 'Unix Pipeline (Brian Kernighan) - Computerphile',\n",
    " 'UNIX Special: Profs Kernighan & Brailsford - Computerphile',\n",
    " 'Turing Machine Primer - Computerphile',\n",
    " \"Why Asimov's Laws of Robotics Don't Work - Computerphile\"]"
   ]
  },
  {
   "cell_type": "markdown",
   "metadata": {},
   "source": [
    "## B2. Twitter\n",
    "\n",
    "```json\n",
    "    ...\n",
    "\n",
    "        ],\n",
    "        \"user_mentions\": [\n",
    "          {\n",
    "            \"screen_name\": \"elieallouche\",\n",
    "            \"name\": \"Elie Allouche\",\n",
    "     ...\n",
    "```"
   ]
  },
  {
   "cell_type": "code",
   "execution_count": null,
   "metadata": {},
   "outputs": [],
   "source": [
    "hashtags = []\n",
    "\n",
    "# Votre code ici\n",
    "\n",
    "\n",
    "# Le test\n",
    "assert hashtags == ['elieallouche',\n",
    " 'michaelbourgatt',\n",
    " 'seeksanusername',\n",
    " 'glennhroe',\n",
    " 'elieallouche',\n",
    " 'michaelbourgatt',\n",
    " 'elieallouche',\n",
    " 'michaelbourgatt',\n",
    " 'elieallouche',\n",
    " 'michaelbourgatt',\n",
    " 'elieallouche',\n",
    " 'michaelbourgatt',\n",
    " 'elieallouche',\n",
    " 'michaelbourgatt',\n",
    " 'michaelbourgatt',\n",
    " 'seeksanusername',\n",
    " 'seeksanusername',\n",
    " 'glennhroe',\n",
    " 'seeksanusername',\n",
    " 'carnetamericas',\n",
    " 'carnetamericas',\n",
    " 'seeksanusername',\n",
    " 'seeksanusername',\n",
    " 'seeksanusername',\n",
    " 'seeksanusername']"
   ]
  },
  {
   "cell_type": "markdown",
   "metadata": {},
   "source": [
    "## B.3 *Youtube*\n",
    "\n",
    "Liste de listes comprenant d'abord le titre puis le lien de toutes les miniatures\n",
    "\n",
    "```json\n",
    "...\n",
    "\n",
    "     },\n",
    "     \"maxres\": {\n",
    "      \"url\": \"https://i.ytimg.com/vi/de2Hsvxaf8M/maxresdefault.jpg\",\n",
    "      \"width\": 1280,\n",
    "      \"height\": 720\n",
    "...\n",
    "```"
   ]
  },
  {
   "cell_type": "code",
   "execution_count": null,
   "metadata": {},
   "outputs": [],
   "source": [
    "# B. 3\n",
    "liste_de_titres_et_de_miniatures = []\n",
    "\n",
    "# Votre code ici\n",
    "\n",
    "assert liste_de_titres_et_de_miniatures == [['Zig Zag Decryption - Computerphile',\n",
    "  ['https://i.ytimg.com/vi/yxx3Bkmv3ck/mqdefault.jpg',\n",
    "   'https://i.ytimg.com/vi/yxx3Bkmv3ck/hqdefault.jpg',\n",
    "   'https://i.ytimg.com/vi/yxx3Bkmv3ck/default.jpg',\n",
    "   'https://i.ytimg.com/vi/yxx3Bkmv3ck/sddefault.jpg',\n",
    "   'https://i.ytimg.com/vi/yxx3Bkmv3ck/maxresdefault.jpg']],\n",
    " [\"Fishy Codes: Bletchley's Other Secret - Computerphile\",\n",
    "  ['https://i.ytimg.com/vi/Ou_9ntYRzzw/mqdefault.jpg',\n",
    "   'https://i.ytimg.com/vi/Ou_9ntYRzzw/hqdefault.jpg',\n",
    "   'https://i.ytimg.com/vi/Ou_9ntYRzzw/default.jpg',\n",
    "   'https://i.ytimg.com/vi/Ou_9ntYRzzw/sddefault.jpg',\n",
    "   'https://i.ytimg.com/vi/Ou_9ntYRzzw/maxresdefault.jpg']],\n",
    " ['The Great 202 Jailbreak - Computerphile',\n",
    "  ['https://i.ytimg.com/vi/CVxeuwlvf8w/mqdefault.jpg',\n",
    "   'https://i.ytimg.com/vi/CVxeuwlvf8w/hqdefault.jpg',\n",
    "   'https://i.ytimg.com/vi/CVxeuwlvf8w/default.jpg',\n",
    "   'https://i.ytimg.com/vi/CVxeuwlvf8w/sddefault.jpg',\n",
    "   'https://i.ytimg.com/vi/CVxeuwlvf8w/maxresdefault.jpg']],\n",
    " ['Why Electronic Voting is a BAD Idea - Computerphile',\n",
    "  ['https://i.ytimg.com/vi/w3_0x6oaDmI/mqdefault.jpg',\n",
    "   'https://i.ytimg.com/vi/w3_0x6oaDmI/hqdefault.jpg',\n",
    "   'https://i.ytimg.com/vi/w3_0x6oaDmI/default.jpg',\n",
    "   'https://i.ytimg.com/vi/w3_0x6oaDmI/sddefault.jpg',\n",
    "   'https://i.ytimg.com/vi/w3_0x6oaDmI/maxresdefault.jpg']],\n",
    " ['\"C\" Programming Language: Brian Kernighan - Computerphile',\n",
    "  ['https://i.ytimg.com/vi/de2Hsvxaf8M/mqdefault.jpg',\n",
    "   'https://i.ytimg.com/vi/de2Hsvxaf8M/hqdefault.jpg',\n",
    "   'https://i.ytimg.com/vi/de2Hsvxaf8M/default.jpg',\n",
    "   'https://i.ytimg.com/vi/de2Hsvxaf8M/sddefault.jpg',\n",
    "   'https://i.ytimg.com/vi/de2Hsvxaf8M/maxresdefault.jpg']],\n",
    " ['Colossus & Bletchley Park - Computerphile',\n",
    "  ['https://i.ytimg.com/vi/9HH-asvLAj4/mqdefault.jpg',\n",
    "   'https://i.ytimg.com/vi/9HH-asvLAj4/hqdefault.jpg',\n",
    "   'https://i.ytimg.com/vi/9HH-asvLAj4/default.jpg',\n",
    "   'https://i.ytimg.com/vi/9HH-asvLAj4/sddefault.jpg',\n",
    "   'https://i.ytimg.com/vi/9HH-asvLAj4/maxresdefault.jpg']],\n",
    " ['The Most Difficult Program to Compute? - Computerphile',\n",
    "  ['https://i.ytimg.com/vi/i7sm9dzFtEI/mqdefault.jpg',\n",
    "   'https://i.ytimg.com/vi/i7sm9dzFtEI/hqdefault.jpg',\n",
    "   'https://i.ytimg.com/vi/i7sm9dzFtEI/default.jpg',\n",
    "   'https://i.ytimg.com/vi/i7sm9dzFtEI/sddefault.jpg',\n",
    "   'https://i.ytimg.com/vi/i7sm9dzFtEI/maxresdefault.jpg']],\n",
    " [\"Turing's Enigma Problem (Part 1) - Computerphile\",\n",
    "  ['https://i.ytimg.com/vi/d2NWPG2gB_A/mqdefault.jpg',\n",
    "   'https://i.ytimg.com/vi/d2NWPG2gB_A/hqdefault.jpg',\n",
    "   'https://i.ytimg.com/vi/d2NWPG2gB_A/default.jpg',\n",
    "   'https://i.ytimg.com/vi/d2NWPG2gB_A/sddefault.jpg',\n",
    "   'https://i.ytimg.com/vi/d2NWPG2gB_A/maxresdefault.jpg']],\n",
    " [\"Tackling Enigma (Turing's Enigma Problem Part 2) - Computerphile\",\n",
    "  ['https://i.ytimg.com/vi/kj_7Jc1mS9k/mqdefault.jpg',\n",
    "   'https://i.ytimg.com/vi/kj_7Jc1mS9k/hqdefault.jpg',\n",
    "   'https://i.ytimg.com/vi/kj_7Jc1mS9k/default.jpg',\n",
    "   'https://i.ytimg.com/vi/kj_7Jc1mS9k/sddefault.jpg',\n",
    "   'https://i.ytimg.com/vi/kj_7Jc1mS9k/maxresdefault.jpg']],\n",
    " ['Connecting Universities - Computerphile',\n",
    "  ['https://i.ytimg.com/vi/Bq1b4wixxJM/mqdefault.jpg',\n",
    "   'https://i.ytimg.com/vi/Bq1b4wixxJM/hqdefault.jpg',\n",
    "   'https://i.ytimg.com/vi/Bq1b4wixxJM/default.jpg',\n",
    "   'https://i.ytimg.com/vi/Bq1b4wixxJM/sddefault.jpg',\n",
    "   'https://i.ytimg.com/vi/Bq1b4wixxJM/maxresdefault.jpg']],\n",
    " ['Why Do We Need IP Addresses? - Computerphile',\n",
    "  ['https://i.ytimg.com/vi/iGPXkxeOfdk/mqdefault.jpg',\n",
    "   'https://i.ytimg.com/vi/iGPXkxeOfdk/hqdefault.jpg',\n",
    "   'https://i.ytimg.com/vi/iGPXkxeOfdk/default.jpg',\n",
    "   'https://i.ytimg.com/vi/iGPXkxeOfdk/sddefault.jpg',\n",
    "   'https://i.ytimg.com/vi/iGPXkxeOfdk/maxresdefault.jpg']],\n",
    " ['Chip & PIN Fraud Explained - Computerphile',\n",
    "  ['https://i.ytimg.com/vi/Ks0SOn8hjG8/mqdefault.jpg',\n",
    "   'https://i.ytimg.com/vi/Ks0SOn8hjG8/hqdefault.jpg',\n",
    "   'https://i.ytimg.com/vi/Ks0SOn8hjG8/default.jpg',\n",
    "   'https://i.ytimg.com/vi/Ks0SOn8hjG8/sddefault.jpg',\n",
    "   'https://i.ytimg.com/vi/Ks0SOn8hjG8/maxresdefault.jpg']],\n",
    " ['Flip Flops, Latches & Memory Details - Computerphile',\n",
    "  ['https://i.ytimg.com/vi/-Ecf7lb4aZ0/mqdefault.jpg',\n",
    "   'https://i.ytimg.com/vi/-Ecf7lb4aZ0/hqdefault.jpg',\n",
    "   'https://i.ytimg.com/vi/-Ecf7lb4aZ0/default.jpg',\n",
    "   'https://i.ytimg.com/vi/-Ecf7lb4aZ0/sddefault.jpg',\n",
    "   'https://i.ytimg.com/vi/-Ecf7lb4aZ0/maxresdefault.jpg']],\n",
    " ['The Factory of Ideas: Working at Bell Labs - Computerphile',\n",
    "  ['https://i.ytimg.com/vi/QFK6RG47bww/mqdefault.jpg',\n",
    "   'https://i.ytimg.com/vi/QFK6RG47bww/hqdefault.jpg',\n",
    "   'https://i.ytimg.com/vi/QFK6RG47bww/default.jpg',\n",
    "   'https://i.ytimg.com/vi/QFK6RG47bww/sddefault.jpg',\n",
    "   'https://i.ytimg.com/vi/QFK6RG47bww/maxresdefault.jpg']],\n",
    " ['Raspberry Pi Zero - the $5 Computer - Computerphile',\n",
    "  ['https://i.ytimg.com/vi/WR0ghM3U0M4/mqdefault.jpg',\n",
    "   'https://i.ytimg.com/vi/WR0ghM3U0M4/hqdefault.jpg',\n",
    "   'https://i.ytimg.com/vi/WR0ghM3U0M4/default.jpg',\n",
    "   'https://i.ytimg.com/vi/WR0ghM3U0M4/sddefault.jpg',\n",
    "   'https://i.ytimg.com/vi/WR0ghM3U0M4/maxresdefault.jpg']],\n",
    " ['How Bitcoin Works - Computerphile',\n",
    "  ['https://i.ytimg.com/vi/JyxRH18YlpA/mqdefault.jpg',\n",
    "   'https://i.ytimg.com/vi/JyxRH18YlpA/hqdefault.jpg',\n",
    "   'https://i.ytimg.com/vi/JyxRH18YlpA/default.jpg',\n",
    "   'https://i.ytimg.com/vi/JyxRH18YlpA/sddefault.jpg',\n",
    "   'https://i.ytimg.com/vi/JyxRH18YlpA/maxresdefault.jpg']],\n",
    " ['Unix Pipeline (Brian Kernighan) - Computerphile',\n",
    "  ['https://i.ytimg.com/vi/bKzonnwoR2I/mqdefault.jpg',\n",
    "   'https://i.ytimg.com/vi/bKzonnwoR2I/hqdefault.jpg',\n",
    "   'https://i.ytimg.com/vi/bKzonnwoR2I/default.jpg',\n",
    "   'https://i.ytimg.com/vi/bKzonnwoR2I/sddefault.jpg',\n",
    "   'https://i.ytimg.com/vi/bKzonnwoR2I/maxresdefault.jpg']],\n",
    " ['UNIX Special: Profs Kernighan & Brailsford - Computerphile',\n",
    "  ['https://i.ytimg.com/vi/vT_J6xc-Az0/mqdefault.jpg',\n",
    "   'https://i.ytimg.com/vi/vT_J6xc-Az0/hqdefault.jpg',\n",
    "   'https://i.ytimg.com/vi/vT_J6xc-Az0/default.jpg',\n",
    "   'https://i.ytimg.com/vi/vT_J6xc-Az0/sddefault.jpg',\n",
    "   'https://i.ytimg.com/vi/vT_J6xc-Az0/maxresdefault.jpg']],\n",
    " ['Turing Machine Primer - Computerphile',\n",
    "  ['https://i.ytimg.com/vi/DILF8usqp7M/mqdefault.jpg',\n",
    "   'https://i.ytimg.com/vi/DILF8usqp7M/hqdefault.jpg',\n",
    "   'https://i.ytimg.com/vi/DILF8usqp7M/default.jpg',\n",
    "   'https://i.ytimg.com/vi/DILF8usqp7M/sddefault.jpg',\n",
    "   'https://i.ytimg.com/vi/DILF8usqp7M/maxresdefault.jpg']],\n",
    " [\"Why Asimov's Laws of Robotics Don't Work - Computerphile\",\n",
    "  ['https://i.ytimg.com/vi/7PKx3kS7f4A/mqdefault.jpg',\n",
    "   'https://i.ytimg.com/vi/7PKx3kS7f4A/hqdefault.jpg',\n",
    "   'https://i.ytimg.com/vi/7PKx3kS7f4A/default.jpg',\n",
    "   'https://i.ytimg.com/vi/7PKx3kS7f4A/sddefault.jpg',\n",
    "   'https://i.ytimg.com/vi/7PKx3kS7f4A/maxresdefault.jpg']]]"
   ]
  }
 ],
 "metadata": {
  "kernelspec": {
   "display_name": "Python 3",
   "language": "python",
   "name": "python3"
  },
  "language_info": {
   "codemirror_mode": {
    "name": "ipython",
    "version": 3
   },
   "file_extension": ".py",
   "mimetype": "text/x-python",
   "name": "python",
   "nbconvert_exporter": "python",
   "pygments_lexer": "ipython3",
   "version": "3.5.2"
  }
 },
 "nbformat": 4,
 "nbformat_minor": 2
}
